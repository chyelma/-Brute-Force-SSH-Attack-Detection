{
  "nbformat": 4,
  "nbformat_minor": 0,
  "metadata": {
    "colab": {
      "provenance": []
    },
    "kernelspec": {
      "name": "python3",
      "display_name": "Python 3"
    },
    "language_info": {
      "name": "python"
    }
  },
  "cells": [
    {
      "cell_type": "code",
      "source": [
        "#Qurratul Ayen Elma\n",
        "#20201121\n",
        "\n",
        "import math\n",
        "import numpy as np\n",
        "import random\n",
        "\n",
        "def alpha_beta_pruning(student_id, range_of_hp):\n",
        "    num_of_turns = int(student_id[0])\n",
        "    #print(num_of_turns)\n",
        "    initial_hp = int(student_id[-1] + student_id[-2])\n",
        "    #print(initial_hp)\n",
        "    num_of_bullets = int(student_id[2])\n",
        "    #print(num_of_bullets)\n",
        "\n",
        "    min_hp, max_hp = range_of_hp # Range for negative HP values\n",
        "\n",
        "\n",
        "    leaf_nodes = []\n",
        "\n",
        "    num_terminal_states = num_of_bullets ** num_of_turns #the number of terminal states needed\n",
        "    #print(num_terminal_states)\n",
        "    j=num_terminal_states\n",
        "    for i in range(j): #each terminal state\n",
        "        # limit=min_hp, max_hp\n",
        "        # print(limit)\n",
        "        random_num_for_hp = random.randint(min_hp, max_hp)  #a random number within the specified range\n",
        "\n",
        "        #print(random_num_for_hp)\n",
        "\n",
        "        leaf_nodes.append(random_num_for_hp) #random number added to the list of leaf nodes/terminals\n",
        "        #print(leaf_nodes)\n",
        "\n",
        "    # Alpha-Beta Pruning\n",
        "    def max_value(nodes, alpha, beta, index=0, depth=0):\n",
        "        if depth == num_of_turns:\n",
        "            return nodes[index]\n",
        "        value = float('-inf')\n",
        "        for i in range(num_of_bullets):\n",
        "            x = index * num_of_bullets\n",
        "            #print(x)\n",
        "            value = max(value, min_value(nodes, alpha, beta, x + i, depth + 1))\n",
        "            if value >= beta:\n",
        "                return value\n",
        "            alpha = max(alpha, value)\n",
        "        return value\n",
        "\n",
        "    def min_value(nodes, alpha, beta, index=0, depth=0):\n",
        "        if depth == num_of_turns:\n",
        "            return nodes[index]\n",
        "        value = float('inf')\n",
        "        for i in range(num_of_bullets):\n",
        "            x=index * num_of_bullets\n",
        "            #print(x)\n",
        "            value = min(value, max_value(nodes, alpha, beta, x + i, depth + 1))\n",
        "            if value <= alpha:\n",
        "                return value\n",
        "            beta = min(beta, value)\n",
        "        return value\n",
        "\n",
        "    mx= float('-inf')\n",
        "    mn= float('inf')\n",
        "    max_damage = max_value(leaf_nodes, mx, mn)\n",
        "    #print(max_damage)\n",
        "    remaining_hp = initial_hp - max_damage\n",
        "    #print(remaining_hp)\n",
        "    terminal_states_str = \", \".join(str(nodes) for nodes in leaf_nodes)\n",
        "    #print(terminal_states_str)\n",
        "    output = (\n",
        "    f\"Depth and Branches ratio is {num_of_turns}:{num_of_bullets}.\\n\"\n",
        "    f\"Terminal States (leaf node values) are {terminal_states_str}.\\n\"\n",
        "    f\"Left life(HP) of the defender after maximum damage caused by the attacker is {remaining_hp}.\\n\"\n",
        "    f\"After Alpha-Beta Pruning Leaf Node Comparisons {len(leaf_nodes)}.\"  # Number of terminal states\n",
        "\n",
        "    )\n",
        "\n",
        "    return output\n",
        "\n",
        "###########################################################\n",
        "student_id = \"20201121\"\n",
        "range_of_hp = (2, 20)\n",
        "#range_of_hp = (-20, -2)\n",
        "\n",
        "alpha_beta_pruning_output = alpha_beta_pruning(student_id, range_of_hp)\n",
        "print(alpha_beta_pruning_output)"
      ],
      "metadata": {
        "colab": {
          "base_uri": "https://localhost:8080/"
        },
        "id": "ysA5VHrElpOO",
        "outputId": "2a9cb8be-7604-4e68-fa18-f0bbca08d2c5"
      },
      "execution_count": null,
      "outputs": [
        {
          "output_type": "stream",
          "name": "stdout",
          "text": [
            "Depth and Branches ratio is 2:2.\n",
            "Terminal States (leaf node values) are 3, 7, 6, 8.\n",
            "Left life(HP) of the defender after maximum damage caused by the attacker is 6.\n",
            "After Alpha-Beta Pruning Leaf Node Comparisons 4.\n"
          ]
        }
      ]
    }
  ]
}